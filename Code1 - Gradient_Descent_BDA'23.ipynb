{


  "cells": [
  {
   "cell_type": "markdown",
   "metadata": {},
   "source": [
    "## Course Introduction\n",
    "\n",
    "**Course:** Big Data And Analytics\n",
    "**Years:** 2023-2024\n",
    "**University:** Polytechnic University of Bari, Italy\n",
    "**Instructor:** Dr. Yashar Deldjoo\n",
    "**Topic:** Gradient Descent\n",
    "\n",
    "Welcome to the 'Big Data And Analytics' course, offered by the Polytechnic University of Bari for the academic years 2023-2024. This course is designed to equip students with the fundamental concepts and tools necessary to understand and work with large and complex data sets.\n",
    "\n",
    "We will guide you through the intricacies of data analytics, from theoretical foundations to practical applications. This notebook focuses on the implementation of Gradient Descent, a cornerstone algorithm for optimizing complex models.\n",
    "\n",
    "Feel free to reach out with questions and engage actively in your learning journey. Let's dive into the world of big data together!\n",
    "\n",
    "[![Open In Colab](https://colab.research.google.com/assets/colab-badge.svg)](https://colab.research.google.com/github/yasdel/Big_Data_And_Analytics/blob/BRANCH/L1 - Gradient_Descent_BDA'23.ipynb"
   ]
  },
    {
      "cell_type": "markdown",
      "metadata": {
        "id": "UaNShKLrbYy2"
      },
      "source": [
        "## Goals\n",
        "In this lab you will:\n",
        "- you will implement and explore the `cost` function for linear regression with one variable.\n",
        "- you will also implement and explore the `gradient` function for linear regression with one variable.\n",
        "- then you will combine the above two functions to create your own first `gradient-descent` function\n",
        "- you also have the chance to try and test several visualization techniques  "
      ],
      "id": "UaNShKLrbYy2"
    },
    {
      "cell_type": "markdown",
      "metadata": {
        "id": "fNhCEIO8bYy2"
      },
      "source": [
        "## Tools\n",
        "In this lab we will make use of:\n",
        "- NumPy, a popular library for scientific computing\n",
        "- Matplotlib, a popular library for plotting data\n",
        "- local plotting routines in the lab_utils_uni.py file in the local directory"
      ],
      "id": "fNhCEIO8bYy2"
    },
    {
      "cell_type": "code",
      "execution_count": null,
      "metadata": {
        "id": "-nsj9m-rbYy3"
      },
      "outputs": [],
      "source": [
        "import numpy as np\n",
        "import matplotlib.pyplot as plt"
      ],
      "id": "-nsj9m-rbYy3"
    },
    {
      "cell_type": "markdown",
      "metadata": {
        "id": "j5mb7VeubYy5"
      },
      "source": [
        "## Problem Statement\n",
        "\n",
        "You would like a model which can predict housing prices given the size of the house.  \n",
        "Let's use the same two data points as before the previous lab- a house with 1000 square feet sold for \\\\$300,000 and a house with 2000 square feet sold for \\\\$500,000.\n",
        "\n",
        "\n",
        "| Size (1000 sqft)     | Price (1000s of dollars) |\n",
        "| -------------------| ------------------------ |\n",
        "| 1                 | 300                      |\n",
        "| 2                  | 500                      |\n"
      ],
      "id": "j5mb7VeubYy5"
    },
    {
      "cell_type": "code",
      "execution_count": null,
      "metadata": {
        "id": "UidhkmArbYy5",
        "outputId": "74569bd3-a5c5-4ee0-b2b9-3051b3826f43",
        "colab": {
          "base_uri": "https://localhost:8080/"
        }
      },
      "outputs": [
        {
          "output_type": "stream",
          "name": "stdout",
          "text": [
            "[1. 2.]\n",
            "[300. 600.]\n",
            "\n",
            "\n",
            "[1.0, 2.0]\n",
            "[300.0, 500.0]\n",
            "<class 'numpy.ndarray'>\n",
            "<class 'list'>\n"
          ]
        }
      ],
      "source": [
        "x_train = np.array([1.0, 2.0])           #(size in 1000 square feet)\n",
        "y_train = np.array([300.0, 600.0])           #(price in 1000s of dollars)\n",
        "\n",
        "print(x_train)\n",
        "print(y_train)\n",
        "\n",
        "print('\\n')\n",
        "x = [1.0, 2.0]\n",
        "y = [300.0, 500.0]\n",
        "print(x)\n",
        "print(y)\n",
        "\n",
        "print(type(x_train))\n",
        "print(type(x))"
      ],
      "id": "UidhkmArbYy5"
    },
    {
      "cell_type": "markdown",
      "metadata": {
        "id": "XOm_sQw5bYy7"
      },
      "source": [
        "## Computing Cost\n",
        "The term 'cost' in this assignment might be a little confusing since the data is housing cost. Here, cost is a measure how well our model is predicting the target price of the house. The term 'price' is used for housing data.\n",
        "\n",
        "The equation for cost with one variable is:\n",
        "  $$J(w,b) = \\frac{1}{2m} \\sum\\limits_{i = 0}^{m-1} (f_{w,b}(x^{(i)}) - y^{(i)})^2 \\tag{1}$$\n",
        "\n",
        "where\n",
        "  $$f_{w,b}(x^{(i)}) = wx^{(i)} + b \\tag{2}$$\n",
        "  \n",
        "- $f_{w,b}(x^{(i)})$ is our prediction for example $i$ using parameters $w,b$.  \n",
        "- $(f_{w,b}(x^{(i)}) -y^{(i)})^2$ is the squared difference between the target value and the prediction.   \n",
        "- These differences are summed over all the $m$ examples and divided by `2m` to produce the cost, $J(w,b)$.  \n",
        ">Note, in lecture summation ranges are typically from 1 to m, while code will be from 0 to m-1.\n"
      ],
      "id": "XOm_sQw5bYy7"
    },
    {
      "cell_type": "markdown",
      "metadata": {
        "id": "nVvvww-JbYy8"
      },
      "source": [
        "The code below calculates cost by looping over each example. In each loop:\n",
        "- `f_wb`, a prediction is calculated\n",
        "- the difference between the target and the prediction is calculated and squared.\n",
        "- this is added to the total cost."
      ],
      "id": "nVvvww-JbYy8"
    },
    {
      "cell_type": "code",
      "execution_count": null,
      "metadata": {
        "id": "EH_0-MZibYy8"
      },
      "outputs": [],
      "source": [
        "def compute_cost(x, y, w, b):\n",
        "    \"\"\"\n",
        "    Computes the cost function for linear regression.\n",
        "\n",
        "    Args:\n",
        "      x (ndarray (m,)): Data, m examples\n",
        "      y (ndarray (m,)): target values\n",
        "      w,b (scalar)    : model parameters\n",
        "\n",
        "    Returns\n",
        "        total_cost (float): The cost of using w,b as the parameters for linear regression\n",
        "               to fit the data points in x and y\n",
        "    \"\"\"\n",
        "    # number of training examples\n",
        "    m = x.shape[0]\n",
        "\n",
        "    cost_sum = 0\n",
        "    for i in range(m):\n",
        "        f_wb = w * x[i] + b\n",
        "        cost = (f_wb - y[i]) ** 2\n",
        "        cost_sum = cost_sum + cost\n",
        "    total_cost = (1 / (2 * m)) * cost_sum\n",
        "\n",
        "    return total_cost"
      ],
      "id": "EH_0-MZibYy8"
    },
    {
      "cell_type": "code",
      "source": [
        "total_cost = compute_cost(x_train, y_train, w = 300, b=0)\n",
        "print(f'total_cost = {total_cost}')"
      ],
      "metadata": {
        "colab": {
          "base_uri": "https://localhost:8080/"
        },
        "id": "ObE0eXc_6E0M",
        "outputId": "0ed231fc-b566-4c6b-c3df-53ee81f6bdb5"
      },
      "id": "ObE0eXc_6E0M",
      "execution_count": null,
      "outputs": [
        {
          "output_type": "stream",
          "name": "stdout",
          "text": [
            "total_cost = 0.0\n"
          ]
        }
      ]
    },
    {
      "cell_type": "code",
      "source": [
        "def compute_gradient(x, y, w, b):\n",
        "    \"\"\"\n",
        "    Computes the gradient for linear regression\n",
        "    Args:\n",
        "      x (ndarray (m,)): Data, m examples\n",
        "      y (ndarray (m,)): target values\n",
        "      w,b (scalar)    : model parameters\n",
        "    Returns\n",
        "      dj_dw (scalar): The gradient of the cost w.r.t. the parameters w\n",
        "      dj_db (scalar): The gradient of the cost w.r.t. the parameter b\n",
        "     \"\"\"\n",
        "\n",
        "    # Number of training examples\n",
        "    m = x.shape[0]\n",
        "    dj_dw = 0\n",
        "    dj_db = 0\n",
        "\n",
        "    for i in range(m):\n",
        "        f_wb = w * x[i] + b\n",
        "        dj_dw_i = (f_wb - y[i]) * x[i]\n",
        "        dj_db_i = f_wb - y[i]\n",
        "        dj_db += dj_db_i\n",
        "        dj_dw += dj_dw_i\n",
        "    dj_dw = dj_dw / m\n",
        "    dj_db = dj_db / m\n",
        "\n",
        "    return dj_dw, dj_db"
      ],
      "metadata": {
        "id": "9njXrPrKEX8W"
      },
      "id": "9njXrPrKEX8W",
      "execution_count": null,
      "outputs": []
    },
    {
      "cell_type": "code",
      "source": [
        "import numpy as np\n",
        "\n",
        "def test_compute_gradient():\n",
        "    # Test 1\n",
        "    x = np.array([1, 2, 3])\n",
        "    y = np.array([2, 4, 6])\n",
        "    w, b = 2, 0\n",
        "    expected_dw, expected_db = 0.0, 0.0 # Given w and b, this is a perfect fit, so gradient should be zero.\n",
        "    computed_dw, computed_db = compute_gradient(x, y, w, b)\n",
        "    assert np.isclose(computed_dw, expected_dw), f\"Test 1 failed for dj_dw: Expected {expected_dw}, Got {computed_dw}\"\n",
        "    assert np.isclose(computed_db, expected_db), f\"Test 1 failed for dj_db: Expected {expected_db}, Got {computed_db}\"\n",
        "    print(\"Test 1 passed\")\n",
        "\n",
        "    # Test 2\n",
        "    x = np.array([1, 2, 3])\n",
        "    y = np.array([3, 5, 7])\n",
        "    w, b = 2, 1\n",
        "    expected_dw, expected_db = 0, 0 # Given w=0, b=0, the gradient should be the average deviation\n",
        "    computed_dw, computed_db = compute_gradient(x, y, w, b)\n",
        "    assert np.isclose(computed_dw, expected_dw), f\"Test 2 failed for dj_dw: Expected {expected_dw}, Got {computed_dw}\"\n",
        "    assert np.isclose(computed_db, expected_db), f\"Test 2 failed for dj_db: Expected {expected_db}, Got {computed_db}\"\n",
        "    print(\"Test 2 passed\")\n",
        "\n",
        "    # You can add more test cases if necessary.\n",
        "\n",
        "test_compute_gradient()\n"
      ],
      "metadata": {
        "colab": {
          "base_uri": "https://localhost:8080/"
        },
        "id": "rvu1EBAdAaLr",
        "outputId": "87935935-e1f9-400f-c8c1-483658e1e7f0"
      },
      "id": "rvu1EBAdAaLr",
      "execution_count": null,
      "outputs": [
        {
          "output_type": "stream",
          "name": "stdout",
          "text": [
            "Test 1 passed\n",
            "Test 2 passed\n"
          ]
        }
      ]
    },
    {
      "cell_type": "code",
      "source": [
        "import numpy as np\n",
        "import matplotlib.pyplot as plt\n",
        "\n",
        "# Step 1: Data Collection\n",
        "x = np.array([1, 1.5, 1.8, 2.2, 2.5])\n",
        "y = 2*x +6\n",
        "#y = np.array([2, 2.8, 3.3, 4.2, 4.6])\n",
        "\n",
        "# Step 2: Data Visualization\n",
        "plt.scatter(x, y, color='red', marker='x', label='Training data')\n",
        "plt.xlabel('House Size (sq.ft)')\n",
        "plt.ylabel('House Price ($)')\n",
        "plt.title('House Size vs Price')\n",
        "plt.legend()\n",
        "plt.show()\n",
        "\n",
        "def gradient_descent(x, y, w, b, learning_rate, num_iterations):\n",
        "    \"\"\"\n",
        "    Performs gradient descent optimization to adjust the parameters w, b\n",
        "\n",
        "    Args:\n",
        "        x, y (ndarray): Data and target values\n",
        "        w, b (scalar)  : Initial values of parameters\n",
        "        learning_rate  : Learning rate for gradient descent\n",
        "        num_iterations : Number of iterations\n",
        "\n",
        "    Returns:\n",
        "        w, b (scalar)  : Adjusted values of parameters\n",
        "        cost_history   : Cost after each iteration\n",
        "    \"\"\"\n",
        "    cost_history = []\n",
        "\n",
        "    for i in range(num_iterations):\n",
        "        # Compute gradient\n",
        "        dj_dw, dj_db = compute_gradient(x, y, w, b)\n",
        "\n",
        "        # Update parameters\n",
        "        w = w - learning_rate * dj_dw\n",
        "        b = b - learning_rate * dj_db\n",
        "\n",
        "        # Compute cost and store in history\n",
        "        cost = compute_cost(x, y, w, b)\n",
        "        cost_history.append(cost)\n",
        "\n",
        "    return w, b, cost_history"
      ],
      "metadata": {
        "colab": {
          "base_uri": "https://localhost:8080/",
          "height": 472
        },
        "id": "IYFB0zQEEQNa",
        "outputId": "4a8445d3-e4ec-4b7f-97d5-008b2e3af0bf"
      },
      "id": "IYFB0zQEEQNa",
      "execution_count": null,
      "outputs": [
        {
          "output_type": "display_data",
          "data": {
            "text/plain": [
              "<Figure size 640x480 with 1 Axes>"
            ],
            "image/png": "[encoded data removed]"
          },
          "metadata": {}
        }
      ]
    },
    {
      "cell_type": "code",
      "source": [
        "# Steps 3 & 4: Implementing Linear Regression & Training the Model\n",
        "w, b = 0, 0 # starting with some initial values\n",
        "learning_rate = 0.01\n",
        "num_iterations = 100000\n",
        "w, b, cost_history = gradient_descent(x, y, w, b, learning_rate, num_iterations)\n",
        "\n",
        "# Step 5: Prediction\n",
        "def predict(x, w, b):\n",
        "    return w * x + b\n",
        "\n",
        "# Sample prediction\n",
        "print(predict(1.7, w, b)) # Predicting for 1700 sq.ft\n",
        "\n",
        "# Step 6: Visualization of the Regression Line\n",
        "plt.scatter(x, y, color='red', marker='x', label='Training data')\n",
        "plt.plot(x, predict(x, w, b), color='blue', label='Linear regression')\n",
        "plt.xlabel('House Size (sq.ft)')\n",
        "plt.ylabel('House Price ($)')\n",
        "plt.title('House Size vs Price with Regression Line')\n",
        "plt.legend()\n",
        "plt.show()\n",
        "\n",
        "# Step 7: Evaluation\n",
        "mse = 2 * cost_history[-1] # last cost value is our mean squared error\n",
        "print(f'MSE: {mse}')\n"
      ],
      "metadata": {
        "colab": {
          "base_uri": "https://localhost:8080/",
          "height": 507
        },
        "id": "VKPfbgFB8QzJ",
        "outputId": "8fa0aa03-515d-4e13-b909-2f764de22381"
      },
      "id": "VKPfbgFB8QzJ",
      "execution_count": null,
      "outputs": [
        {
          "output_type": "stream",
          "name": "stdout",
          "text": [
            "9.399999999999919\n"
          ]
        },
        {
          "output_type": "display_data",
          "data": {
            "text/plain": [
              "<Figure size 640x480 with 1 Axes>"
            ],
            "image/png": "[encoded data removed]"
          },
          "metadata": {}
        },
        {
          "output_type": "stream",
          "name": "stdout",
          "text": [
            "MSE: 3.940454884887581e-26\n"
          ]
        }
      ]
    },
    {
      "cell_type": "code",
      "source": [
        "# Plotting the cost history\n",
        "plt.plot(range(num_iterations), cost_history, color='blue')\n",
        "plt.xlabel('Iterations')\n",
        "plt.ylabel('Cost')\n",
        "plt.title('Cost Function Curve')\n",
        "plt.show()\n",
        "\n",
        "# Print the final w and b values\n",
        "print(f\"Final w (weight): {w}\")\n",
        "print(f\"Final b (bias): {b}\")\n"
      ],
      "metadata": {
        "colab": {
          "base_uri": "https://localhost:8080/",
          "height": 507
        },
        "id": "jhReSvTd8zBe",
        "outputId": "16404ad7-100c-488f-a8e6-d50b623b53de"
      },
      "id": "jhReSvTd8zBe",
      "execution_count": null,
      "outputs": [
        {
          "output_type": "display_data",
          "data": {
            "text/plain": [
              "<Figure size 640x480 with 1 Axes>"
            ],
            "image/png": "[encoded data removed]"
          },
          "metadata": {}
        },
        {
          "output_type": "stream",
          "name": "stdout",
          "text": [
            "Final w (weight): 2.000000000000368\n",
            "Final b (bias): 5.999999999999293\n"
          ]
        }
      ]
    }
  ],
  "metadata": {
    "kernelspec": {
      "display_name": "Python 3",
      "language": "python",
      "name": "python3"
    },
    "language_info": {
      "codemirror_mode": {
        "name": "ipython",
        "version": 3
      },
      "file_extension": ".py",
      "mimetype": "text/x-python",
      "name": "python",
      "nbconvert_exporter": "python",
      "pygments_lexer": "ipython3",
      "version": "3.7.6"
    },
    "toc-autonumbering": false,
    "colab": {
      "provenance": []
    }
  },
  "nbformat": 4,
  "nbformat_minor": 5
}
